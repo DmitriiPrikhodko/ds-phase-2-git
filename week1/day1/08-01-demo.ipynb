{
 "cells": [
  {
   "attachments": {},
   "cell_type": "markdown",
   "id": "088ba255-5959-4ce9-8efc-ef31628b62de",
   "metadata": {},
   "source": [
    "# Фаза 2 • Неделя 8 • Понедельник\n",
    "## Нейронные сети\n",
    "### 🔥 PyTorch"
   ]
  },
  {
   "attachments": {},
   "cell_type": "markdown",
   "id": "30762da6",
   "metadata": {},
   "source": [
    "https://pytorch.org/"
   ]
  },
  {
   "cell_type": "code",
   "execution_count": 2,
   "id": "378c4309",
   "metadata": {},
   "outputs": [],
   "source": [
    "import torch\n",
    "\n",
    "torch.manual_seed(42)\n",
    "\n",
    "# nn - модуль со слоями\n",
    "from torch import nn\n",
    "\n",
    "# optim - оптимизаторы\n",
    "from torch import optim\n",
    "\n",
    "# TensorDataset – класс датасета, с помощью которого мы укажем DataLoader что у нас за данные\n",
    "from torch.utils.data import TensorDataset, DataLoader, random_split\n",
    "\n",
    "# https://github.com/anjandeepsahni/torchutils <- нужно установить\n",
    "import torchutils as tu\n",
    "import matplotlib.pyplot as plt\n",
    "\n",
    "# import mplcyberpunk\n",
    "\n",
    "# plt.style.use(\"cyberpunk\")\n",
    "import numpy as np\n",
    "import pandas as pd"
   ]
  },
  {
   "cell_type": "code",
   "execution_count": 4,
   "id": "83f28b62",
   "metadata": {},
   "outputs": [
    {
     "data": {
      "text/html": [
       "<div>\n",
       "<style scoped>\n",
       "    .dataframe tbody tr th:only-of-type {\n",
       "        vertical-align: middle;\n",
       "    }\n",
       "\n",
       "    .dataframe tbody tr th {\n",
       "        vertical-align: top;\n",
       "    }\n",
       "\n",
       "    .dataframe thead th {\n",
       "        text-align: right;\n",
       "    }\n",
       "</style>\n",
       "<table border=\"1\" class=\"dataframe\">\n",
       "  <thead>\n",
       "    <tr style=\"text-align: right;\">\n",
       "      <th></th>\n",
       "      <th>0</th>\n",
       "      <th>1</th>\n",
       "      <th>2</th>\n",
       "      <th>3</th>\n",
       "      <th>4</th>\n",
       "      <th>5</th>\n",
       "      <th>6</th>\n",
       "      <th>7</th>\n",
       "      <th>8</th>\n",
       "      <th>9</th>\n",
       "      <th>10</th>\n",
       "      <th>11</th>\n",
       "      <th>12</th>\n",
       "      <th>13</th>\n",
       "      <th>14</th>\n",
       "      <th>15</th>\n",
       "    </tr>\n",
       "  </thead>\n",
       "  <tbody>\n",
       "    <tr>\n",
       "      <th>0</th>\n",
       "      <td>-0.372544</td>\n",
       "      <td>0.149667</td>\n",
       "      <td>-1.829788</td>\n",
       "      <td>-0.710564</td>\n",
       "      <td>0.172706</td>\n",
       "      <td>-0.753473</td>\n",
       "      <td>3.219539</td>\n",
       "      <td>-2.258949</td>\n",
       "      <td>0.689458</td>\n",
       "      <td>0.215635</td>\n",
       "      <td>0.564078</td>\n",
       "      <td>0.347763</td>\n",
       "      <td>1.052765</td>\n",
       "      <td>-2.066468</td>\n",
       "      <td>0.068826</td>\n",
       "      <td>0.0</td>\n",
       "    </tr>\n",
       "    <tr>\n",
       "      <th>1</th>\n",
       "      <td>-0.920162</td>\n",
       "      <td>-1.471595</td>\n",
       "      <td>-3.181971</td>\n",
       "      <td>-2.302627</td>\n",
       "      <td>0.078188</td>\n",
       "      <td>0.191089</td>\n",
       "      <td>2.898332</td>\n",
       "      <td>-3.336875</td>\n",
       "      <td>-1.467591</td>\n",
       "      <td>0.047672</td>\n",
       "      <td>-0.734148</td>\n",
       "      <td>-0.166591</td>\n",
       "      <td>0.870139</td>\n",
       "      <td>-0.284713</td>\n",
       "      <td>-0.042125</td>\n",
       "      <td>0.0</td>\n",
       "    </tr>\n",
       "    <tr>\n",
       "      <th>2</th>\n",
       "      <td>-0.867346</td>\n",
       "      <td>-0.714984</td>\n",
       "      <td>-2.308342</td>\n",
       "      <td>1.355378</td>\n",
       "      <td>-0.165081</td>\n",
       "      <td>0.253880</td>\n",
       "      <td>2.210411</td>\n",
       "      <td>-2.444333</td>\n",
       "      <td>-0.958174</td>\n",
       "      <td>0.773928</td>\n",
       "      <td>-0.464096</td>\n",
       "      <td>-1.583906</td>\n",
       "      <td>0.319182</td>\n",
       "      <td>-0.338673</td>\n",
       "      <td>-0.512475</td>\n",
       "      <td>0.0</td>\n",
       "    </tr>\n",
       "    <tr>\n",
       "      <th>3</th>\n",
       "      <td>-2.593742</td>\n",
       "      <td>-0.488281</td>\n",
       "      <td>-2.770813</td>\n",
       "      <td>-1.514421</td>\n",
       "      <td>-0.074888</td>\n",
       "      <td>0.413238</td>\n",
       "      <td>3.281355</td>\n",
       "      <td>-3.071604</td>\n",
       "      <td>-0.529921</td>\n",
       "      <td>-0.775045</td>\n",
       "      <td>-0.158164</td>\n",
       "      <td>0.334897</td>\n",
       "      <td>-0.409302</td>\n",
       "      <td>-1.176140</td>\n",
       "      <td>0.971471</td>\n",
       "      <td>0.0</td>\n",
       "    </tr>\n",
       "    <tr>\n",
       "      <th>4</th>\n",
       "      <td>-0.207870</td>\n",
       "      <td>-0.693828</td>\n",
       "      <td>-2.322182</td>\n",
       "      <td>0.968451</td>\n",
       "      <td>1.672065</td>\n",
       "      <td>-1.305289</td>\n",
       "      <td>0.389738</td>\n",
       "      <td>-2.057347</td>\n",
       "      <td>-2.774857</td>\n",
       "      <td>-1.443170</td>\n",
       "      <td>-1.631638</td>\n",
       "      <td>0.104118</td>\n",
       "      <td>1.234805</td>\n",
       "      <td>1.906438</td>\n",
       "      <td>2.120509</td>\n",
       "      <td>1.0</td>\n",
       "    </tr>\n",
       "  </tbody>\n",
       "</table>\n",
       "</div>"
      ],
      "text/plain": [
       "          0         1         2         3         4         5         6  \\\n",
       "0 -0.372544  0.149667 -1.829788 -0.710564  0.172706 -0.753473  3.219539   \n",
       "1 -0.920162 -1.471595 -3.181971 -2.302627  0.078188  0.191089  2.898332   \n",
       "2 -0.867346 -0.714984 -2.308342  1.355378 -0.165081  0.253880  2.210411   \n",
       "3 -2.593742 -0.488281 -2.770813 -1.514421 -0.074888  0.413238  3.281355   \n",
       "4 -0.207870 -0.693828 -2.322182  0.968451  1.672065 -1.305289  0.389738   \n",
       "\n",
       "          7         8         9        10        11        12        13  \\\n",
       "0 -2.258949  0.689458  0.215635  0.564078  0.347763  1.052765 -2.066468   \n",
       "1 -3.336875 -1.467591  0.047672 -0.734148 -0.166591  0.870139 -0.284713   \n",
       "2 -2.444333 -0.958174  0.773928 -0.464096 -1.583906  0.319182 -0.338673   \n",
       "3 -3.071604 -0.529921 -0.775045 -0.158164  0.334897 -0.409302 -1.176140   \n",
       "4 -2.057347 -2.774857 -1.443170 -1.631638  0.104118  1.234805  1.906438   \n",
       "\n",
       "         14   15  \n",
       "0  0.068826  0.0  \n",
       "1 -0.042125  0.0  \n",
       "2 -0.512475  0.0  \n",
       "3  0.971471  0.0  \n",
       "4  2.120509  1.0  "
      ]
     },
     "execution_count": 4,
     "metadata": {},
     "output_type": "execute_result"
    }
   ],
   "source": [
    "# сделаем dataframe для seaborn\n",
    "df = pd.read_csv(\"data/table_dataset.csv\")\n",
    "df.head()"
   ]
  },
  {
   "cell_type": "code",
   "execution_count": 5,
   "id": "d99e72fb",
   "metadata": {},
   "outputs": [
    {
     "name": "stdout",
     "output_type": "stream",
     "text": [
      "(100000, 15) (100000,)\n",
      "15\n"
     ]
    }
   ],
   "source": [
    "# разделим призанки от таргета\n",
    "X, y = df.iloc[:, :-1].values, df.iloc[:, -1].values\n",
    "n_features = X.shape[1]\n",
    "print(X.shape, y.shape)\n",
    "print(n_features)"
   ]
  },
  {
   "cell_type": "code",
   "execution_count": 6,
   "id": "a386c75b",
   "metadata": {},
   "outputs": [
    {
     "data": {
      "text/plain": [
       "torch.Size([32, 15])"
      ]
     },
     "execution_count": 6,
     "metadata": {},
     "output_type": "execute_result"
    }
   ],
   "source": [
    "torch.randn(32, n_features).shape"
   ]
  },
  {
   "cell_type": "code",
   "execution_count": 7,
   "id": "eeaf6ddb",
   "metadata": {},
   "outputs": [
    {
     "name": "stdout",
     "output_type": "stream",
     "text": [
      "==========================================\n",
      "Layer   Kernel    Output    Params   FLOPs\n",
      "==========================================\n",
      "0_0     [15, 1]   [90, 1]       16   2,610\n",
      "1_1           -   [90, 1]        0     360\n",
      "==========================================\n",
      "Total params: 16\n",
      "Trainable params: 16\n",
      "Non-trainable params: 0\n",
      "Total FLOPs: 2,970 / 2.97 KFLOPs\n",
      "------------------------------------------\n",
      "Input size (MB): 0.01\n",
      "Forward/backward pass size (MB): 0.00\n",
      "Params size (MB): 0.00\n",
      "Estimated Total Size (MB): 0.01\n",
      "==========================================\n"
     ]
    }
   ],
   "source": [
    "# зададим модель: на вход будет поступать n_featuers признаков (в нашем случае 15)\n",
    "# Решаем задачу бинарной классификации, на выходе 1 значение.\n",
    "model = nn.Sequential(nn.Linear(n_features, 1), nn.Sigmoid())\n",
    "\n",
    "tu.get_model_summary(model, torch.randn(90, n_features))"
   ]
  },
  {
   "attachments": {},
   "cell_type": "markdown",
   "id": "ec62e281",
   "metadata": {},
   "source": [
    "Фактически мы задали обычную логистическую регрессию (она же обычный нейрон с сигмоидальной функцией активации): \n",
    "\n",
    "$$\\sigma = \\dfrac{1}{1+ \\exp^{-\\sum_{i=0}^{nfeatures}x_i w_i}}$$"
   ]
  },
  {
   "attachments": {},
   "cell_type": "markdown",
   "id": "84782526",
   "metadata": {},
   "source": [
    "### Подготовка датасета\n",
    "\n",
    "Будем использовать `TensorDataset`, он подходит нам, потому что мы работаем с табличными данными. Для картинок будем использовать аналогичный специальный класс, об этом позже. "
   ]
  },
  {
   "cell_type": "code",
   "execution_count": null,
   "id": "c13ac247",
   "metadata": {},
   "outputs": [],
   "source": [
    "# ?TensorDataset"
   ]
  },
  {
   "cell_type": "code",
   "execution_count": 8,
   "id": "af3f50e4",
   "metadata": {},
   "outputs": [],
   "source": [
    "# основной тип данных pytorch - тензор, все данные должны быть в таком формате\n",
    "dataset = TensorDataset(\n",
    "    torch.tensor(X, dtype=torch.float), torch.tensor(y, dtype=torch.float)\n",
    ")"
   ]
  },
  {
   "cell_type": "code",
   "execution_count": 9,
   "id": "88aee8ba",
   "metadata": {},
   "outputs": [
    {
     "data": {
      "text/plain": [
       "<torch.utils.data.dataset.TensorDataset at 0x72e837fc0ad0>"
      ]
     },
     "execution_count": 9,
     "metadata": {},
     "output_type": "execute_result"
    }
   ],
   "source": [
    "dataset"
   ]
  },
  {
   "cell_type": "code",
   "execution_count": null,
   "id": "0f9102b2",
   "metadata": {},
   "outputs": [],
   "source": [
    "# аналог train_test_split для pytorch\n",
    "train_ds, valid_ds = random_split(dataset, lengths=(0.7, 0.3))"
   ]
  },
  {
   "cell_type": "code",
   "execution_count": null,
   "id": "590fdffe",
   "metadata": {},
   "outputs": [],
   "source": [
    "train_ds"
   ]
  },
  {
   "cell_type": "code",
   "execution_count": null,
   "id": "02419bb9",
   "metadata": {},
   "outputs": [],
   "source": [
    "# DataLoader – загрузчик данных для pytorch,\n",
    "# он оптимизирует процесс чтения данных и позволяет\n",
    "# более эффективно использовать ресурсы компьютера\n",
    "train_loader = DataLoader(train_ds, shuffle=True, batch_size=128)\n",
    "valid_loader = DataLoader(valid_ds, shuffle=True, batch_size=128)"
   ]
  },
  {
   "cell_type": "code",
   "execution_count": null,
   "id": "5b6d8d4f",
   "metadata": {},
   "outputs": [],
   "source": [
    "# Это обычный генератор, он будет возвращать нам «пакеты» (батчи)\n",
    "# данных. Мы будем использовать его почти всегда\n",
    "next(iter(train_loader))"
   ]
  },
  {
   "cell_type": "code",
   "execution_count": null,
   "id": "76327845",
   "metadata": {},
   "outputs": [],
   "source": [
    "# Зададим функцию для отрисовки графиков\n",
    "\n",
    "\n",
    "def plot_loss_metrics(tl: list, vl: list, tm: list, vm: list):\n",
    "    _, ax = plt.subplots(1, 2, figsize=(14, 5))\n",
    "    ax[0].plot(tl, label=\"Train loss\")\n",
    "    ax[0].plot(vl, label=\"Valid Loss\")\n",
    "    ax[0].legend()\n",
    "    ax[0].set_title(\"Loss\")\n",
    "    ax[0].set_ylim((0, max(tl + vl) + 0.1))\n",
    "\n",
    "    ax[1].plot(tm, label=\"Train accuracy\")\n",
    "    ax[1].plot(vm, label=\"Valid accuracy\")\n",
    "    ax[1].legend()\n",
    "    ax[1].set_title(\"Accuracy\")\n",
    "    ax[1].set_ylim((0, max(tm + vm) + 0.1))"
   ]
  },
  {
   "attachments": {},
   "cell_type": "markdown",
   "id": "4844bd85",
   "metadata": {},
   "source": [
    "### Обучение модели\n",
    "\n",
    "В TensorFlow и pytorch процесс обучения модели программируется вручную, это позволяет более детально следить за процессом и контролировать параметры. Обычно цикл обучения реализуется функцией, но мы попробуем начать с обычного цикла. Процесс итеративный: одна эпоха заканчивается, когда все данные прошли через сеть. "
   ]
  },
  {
   "cell_type": "code",
   "execution_count": null,
   "id": "615f218b",
   "metadata": {},
   "outputs": [],
   "source": [
    "for param in model.parameters():\n",
    "    print(param)"
   ]
  },
  {
   "cell_type": "code",
   "execution_count": null,
   "id": "5104c21b",
   "metadata": {},
   "outputs": [],
   "source": [
    "# задаем оптимизатор – алгоритм градиентного спуска,\n",
    "# который будет искать решение задачи: минимум функции потерь\n",
    "optimizer = optim.SGD(model.parameters(), lr=0.005)"
   ]
  },
  {
   "attachments": {},
   "cell_type": "markdown",
   "id": "e121c09f",
   "metadata": {},
   "source": [
    "Формула бинарной кросс-энтропии: \n",
    "\n",
    "$$BCELoss = -\\sum_{i}^{N}\\big(y_i \\log p_i + (1-y_i)\\log(1-p_i)\\big)$$"
   ]
  },
  {
   "cell_type": "code",
   "execution_count": null,
   "id": "2b25eb1a",
   "metadata": {},
   "outputs": [],
   "source": [
    "# решаем задачу бинарной классификации: будем минимизировать\n",
    "# бинарную кросс-энтропию (BCE - Binary Cross Entropy)\n",
    "criterion = nn.BCELoss()  # nn.MSELoss()"
   ]
  },
  {
   "cell_type": "code",
   "execution_count": null,
   "id": "6ff904a5",
   "metadata": {},
   "outputs": [],
   "source": [
    "def fit_model(model: torch.nn.modules.container.Sequential, n_epochs: int) -> tuple:\n",
    "\n",
    "    # будем сохранять историю обучения модели: значения функции потерь и метрики accuracy\n",
    "    # эти переменные будут отвечать за хранение значений после вычисления каждой эпохи\n",
    "    train_losses = []\n",
    "    valid_losses = []\n",
    "\n",
    "    train_metric = []\n",
    "    valid_metric = []\n",
    "\n",
    "    for epoch in range(n_epochs):\n",
    "        ####### ОБУЧЕНИЕ ##########\n",
    "        model.train()  # устанавливаем модель в режим обучения – сейчас будут вычисляться градиенты\n",
    "\n",
    "        # эти два списка будут хранить значения внутри одной итерации\n",
    "        train_loss_iter = []\n",
    "        train_metric_iter = []\n",
    "\n",
    "        # внутри одной эпохи итерируемся по загрузчику: обычно памяти меньше,\n",
    "        # чем данных, поэтому сразу взять всю выборку не получится\n",
    "        for samples, labels in train_loader:\n",
    "\n",
    "            # получаем предсказания модели, т.е. делаем прямой проход – forward pass\n",
    "            predictions = model(samples)\n",
    "\n",
    "            # (128, 1) X (128)\n",
    "            # на выходе из модели форма predictions (batch_size, 1), а форма labels – (batch_size, )\n",
    "            # нам нужно убрать одно измерение из predictions, это можно сделать с\n",
    "            # помощью метода squeeze(-1)\n",
    "            predictions = predictions.squeeze(-1)\n",
    "\n",
    "            # считаем значение функции потерь: сравниваем\n",
    "            # прогнозы модели с истинными значениями классов\n",
    "            loss = criterion(predictions, labels)\n",
    "\n",
    "            # обнуляем значения градиентов с предыдущего шага – pytorch этого не делает за нас\n",
    "            optimizer.zero_grad()\n",
    "            # делаем обратный проход – backward\n",
    "            loss.backward()\n",
    "            # применяем вычисленные градиенты к параметрам\n",
    "            optimizer.step()\n",
    "\n",
    "            # запишем loss в список\n",
    "            train_loss_iter.append(loss.item())\n",
    "\n",
    "            # вычислим точность: число совпавших классов в предсказании модели и настоящих меток\n",
    "            accuracy = (torch.round(predictions) == labels).sum() / len(samples)\n",
    "            train_metric_iter.append(accuracy)\n",
    "\n",
    "        ###### ВАЛИДАЦИЯ ###########\n",
    "        # Теперь будем идти по валидационному загрузчику и проверять качество модели на другой выборке\n",
    "        # переводим модель в режим валидации\n",
    "        model.eval()\n",
    "\n",
    "        valid_loss_iter = []\n",
    "        valid_metric_iter = []\n",
    "\n",
    "        for samples, labels in valid_loader:\n",
    "\n",
    "            # получаем предсказания модели, т.е. делаем прямой проход – forward pass\n",
    "            # делаем это с отключенной функцией вычисления градиентов, нам это ни к чему\n",
    "            # во время проверки точности модели на валидационной части выборки\n",
    "            # with torch.inference_mode:\n",
    "            with torch.inference_mode():\n",
    "                predictions = model(samples)\n",
    "\n",
    "            # на выходе из модели форма predictions (batch_size, 1), а форма labels – (batch_size, )\n",
    "            # нам нужно убрать одно измерение из predictions, это можно сделать с\n",
    "            # помощью метода squeeze(-1)\n",
    "            predictions = predictions.squeeze(-1)\n",
    "\n",
    "            # считаем значение функции потерь: сравниваем прогнозы модели с истинными значениями классов\n",
    "            loss = criterion(predictions, labels)\n",
    "\n",
    "            # запишем loss в список, item() забирает только значение из переменной, не тянет за собой техническую информацию\n",
    "            valid_loss_iter.append(loss.item())\n",
    "\n",
    "            # вычислим точность: число совпавших классов в предсказании модели и настоящих меток\n",
    "            accuracy = (torch.round(predictions) == labels).sum() / len(samples)\n",
    "            valid_metric_iter.append(accuracy)\n",
    "\n",
    "        # после окончания эпохи запишем все усредненные характеристики в переменные\n",
    "        train_losses.append(np.mean(train_loss_iter))\n",
    "        valid_losses.append(np.mean(valid_loss_iter))\n",
    "\n",
    "        train_metric.append(np.mean(train_metric_iter))\n",
    "        valid_metric.append(np.mean(valid_metric_iter))\n",
    "\n",
    "        if epoch % 1 == 0:\n",
    "            print(\n",
    "                f\"Epoch {epoch} finished: train_loss={train_losses[-1]:.3f}, valid_loss={valid_losses[-1]:.3f}\"\n",
    "            )\n",
    "\n",
    "    return train_losses, valid_losses, train_metric, valid_metric"
   ]
  },
  {
   "cell_type": "code",
   "execution_count": null,
   "id": "1a804577",
   "metadata": {},
   "outputs": [],
   "source": [
    "train_losses, valid_losses, train_metric, valid_metric = fit_model(model, 20)"
   ]
  },
  {
   "cell_type": "code",
   "execution_count": null,
   "id": "22c18788",
   "metadata": {},
   "outputs": [],
   "source": [
    "# Обучение прошло, теперь надо визуализировать лоссы и метрики: только по графикам можно понять, обучилась ли модель\n",
    "plot_loss_metrics(train_losses, valid_losses, train_metric, valid_metric)"
   ]
  },
  {
   "cell_type": "code",
   "execution_count": null,
   "id": "04033570",
   "metadata": {},
   "outputs": [],
   "source": [
    "# Можно посмотреть на значения параметров\n",
    "# requires_grad означает, что эти параметры участвуют в обучении сети.\n",
    "# Иногда мы будем их «выключать», т. е. устанавливать это поле в False\n",
    "\n",
    "for param in model.parameters():\n",
    "    print(param)"
   ]
  },
  {
   "attachments": {},
   "cell_type": "markdown",
   "id": "93cb553d",
   "metadata": {},
   "source": [
    "Обычный вопрос: \n",
    "> сколько нейронов и слоев необходимо выбирать для решения задачи? \n",
    "\n",
    "Исчерпывающего ответа **нет**, можно почитать ответы на [stats.stackexchange.com](https://stats.stackexchange.com/questions/181/how-to-choose-the-number-of-hidden-layers-and-nodes-in-a-feedforward-neural-netw)"
   ]
  },
  {
   "cell_type": "code",
   "execution_count": null,
   "id": "04445afd",
   "metadata": {},
   "outputs": [],
   "source": [
    "# Зададим другую модель\n",
    "\n",
    "big_model = nn.Sequential(\n",
    "    nn.Linear(n_features, 32),\n",
    "    nn.Dropout(),\n",
    "    nn.Sigmoid(),\n",
    "    nn.Linear(32, 16),\n",
    "    nn.Dropout(),\n",
    "    nn.Sigmoid(),\n",
    "    nn.Linear(16, 1),\n",
    "    nn.Sigmoid(),\n",
    ")\n",
    "\n",
    "tu.get_model_summary(big_model, torch.randn(128, n_features))"
   ]
  },
  {
   "cell_type": "code",
   "execution_count": null,
   "id": "6a1ea6d7",
   "metadata": {},
   "outputs": [],
   "source": [
    "optimizer = torch.optim.SGD(big_model.parameters(), lr=0.005)"
   ]
  },
  {
   "cell_type": "code",
   "execution_count": null,
   "id": "024aba81",
   "metadata": {},
   "outputs": [],
   "source": [
    "tl, vl, tm, vm = fit_model(big_model, 20)"
   ]
  },
  {
   "cell_type": "code",
   "execution_count": null,
   "id": "5bc82ed0",
   "metadata": {},
   "outputs": [],
   "source": [
    "# Обучение прошло, теперь надо визуализировать лоссы и метрики:\n",
    "# только по графикам можно понять, обучилась ли модель\n",
    "plot_loss_metrics(tl, vl, tm, vm)"
   ]
  },
  {
   "cell_type": "code",
   "execution_count": null,
   "id": "185ac564",
   "metadata": {},
   "outputs": [],
   "source": [
    "# Зададим модель еще сложнее\n",
    "\n",
    "giant_model = nn.Sequential(\n",
    "    nn.Linear(n_features, 512),\n",
    "    nn.Sigmoid(),\n",
    "    nn.Linear(512, 256),\n",
    "    nn.Sigmoid(),\n",
    "    nn.Linear(256, 128),\n",
    "    nn.Sigmoid(),\n",
    "    nn.Linear(128, 128),\n",
    "    nn.Sigmoid(),\n",
    "    nn.Linear(128, 1),\n",
    "    nn.Sigmoid(),\n",
    ")\n",
    "\n",
    "tu.get_model_summary(giant_model, torch.randn(128, n_features))"
   ]
  },
  {
   "cell_type": "code",
   "execution_count": null,
   "id": "639cab88",
   "metadata": {},
   "outputs": [],
   "source": [
    "optimizer = torch.optim.SGD(giant_model.parameters(), lr=0.05)\n",
    "tl, vl, tm, vm = fit_model(giant_model, 20)"
   ]
  },
  {
   "cell_type": "code",
   "execution_count": null,
   "id": "8efd81ed",
   "metadata": {},
   "outputs": [],
   "source": [
    "plot_loss_metrics(tl, vl, tm, vm)"
   ]
  }
 ],
 "metadata": {
  "kernelspec": {
   "display_name": ".venv (3.12.10)",
   "language": "python",
   "name": "python3"
  },
  "language_info": {
   "codemirror_mode": {
    "name": "ipython",
    "version": 3
   },
   "file_extension": ".py",
   "mimetype": "text/x-python",
   "name": "python",
   "nbconvert_exporter": "python",
   "pygments_lexer": "ipython3",
   "version": "3.12.10"
  },
  "varInspector": {
   "cols": {
    "lenName": 16,
    "lenType": 16,
    "lenVar": 40
   },
   "kernels_config": {
    "python": {
     "delete_cmd_postfix": "",
     "delete_cmd_prefix": "del ",
     "library": "var_list.py",
     "varRefreshCmd": "print(var_dic_list())"
    },
    "r": {
     "delete_cmd_postfix": ") ",
     "delete_cmd_prefix": "rm(",
     "library": "var_list.r",
     "varRefreshCmd": "cat(var_dic_list()) "
    }
   },
   "types_to_exclude": [
    "module",
    "function",
    "builtin_function_or_method",
    "instance",
    "_Feature"
   ],
   "window_display": false
  }
 },
 "nbformat": 4,
 "nbformat_minor": 5
}
