{
 "cells": [
  {
   "attachments": {},
   "cell_type": "markdown",
   "metadata": {},
   "source": [
    "# Фаза 2 • Неделя 8 • Среда\n",
    "## Нейронные сети\n",
    "### 🔥 PyTorch: сверточные сети"
   ]
  },
  {
   "cell_type": "code",
   "execution_count": 1,
   "metadata": {},
   "outputs": [],
   "source": [
    "import torch\n",
    "import torch.nn as nn\n",
    "from torch.utils.data import DataLoader\n",
    "from torchvision.datasets import MNIST\n",
    "\n",
    "# Тут много разных аугментаций\n",
    "# https://pytorch.org/vision/stable/auto_examples/transforms/plot_transforms_illustrations.html#sphx-glr-auto-examples-transforms-plot-transforms-illustrations-py\n",
    "from torchvision import transforms as T\n",
    "import torchutils as tu\n",
    "\n",
    "\n",
    "import mplcyberpunk\n",
    "import matplotlib.pyplot as plt\n",
    "import numpy as np\n",
    "\n",
    "import mlflow      \n",
    "import mlflow.pytorch  \n",
    "\n",
    "\n",
    "torch.manual_seed(42)\n",
    "plt.style.use('cyberpunk')"
   ]
  },
  {
   "attachments": {},
   "cell_type": "markdown",
   "metadata": {},
   "source": [
    "## PyTorch example"
   ]
  },
  {
   "cell_type": "markdown",
   "metadata": {},
   "source": [
    "#### 0. Config "
   ]
  },
  {
   "cell_type": "code",
   "execution_count": 35,
   "metadata": {},
   "outputs": [],
   "source": [
    "config = {\n",
    "    'batch_size': 1024,\n",
    "    'learning_rate': 0.003,\n",
    "    'epochs': 15,\n",
    "    'device': 'mps',  # 'cuda' if torch.cuda.is_available() else 'cpu'\n",
    "    'data_dir': 'data/',\n",
    "    'log_dir': 'runs/experiment1'\n",
    "}\n",
    "\n",
    "# ниже строка не обязательна, но часто device хранят еще и в отдельной переменной, так как часто обращаются к ней\n",
    "DEVICE = config['device'] #'cuda' if torch.cuda.is_available() else 'cpu'"
   ]
  },
  {
   "cell_type": "markdown",
   "metadata": {},
   "source": [
    "#### 1. Dataset"
   ]
  },
  {
   "cell_type": "code",
   "execution_count": 36,
   "metadata": {},
   "outputs": [],
   "source": [
    "train_dataset = MNIST(\n",
    "        config['data_dir'], \n",
    "        train=True,\n",
    "        download=True,\n",
    "        transform=T.Compose( \n",
    "              [\n",
    "                T.RandomRotation(80),  \n",
    "                T.RandomPerspective(),\n",
    "                T.ToTensor(), # x in range(0, 1)\n",
    "                \n",
    "                # Среднее будет в 0, ст. отклонение будет 1\n",
    "                T.Normalize(mean=(0.1307,), std=(0.3081, ))\n",
    "              ]\n",
    "            )\n",
    "          )\n",
    "\n",
    "valid_dataset = MNIST(\n",
    "        config['data_dir'], \n",
    "        train=False, \n",
    "        download=True,\n",
    "        transform=T.Compose(\n",
    "                [\n",
    "                  T.ToTensor(),\n",
    "                  T.Normalize(mean=(0.1307,), std=(0.3081,))\n",
    "                ]\n",
    "              )\n",
    "            )"
   ]
  },
  {
   "cell_type": "markdown",
   "metadata": {},
   "source": [
    "#####  🎨 Разница между `train_dataset.data[i]` и `train_dataset[i]`\n",
    "\n",
    "В PyTorch `Dataset` мы можем обращаться к данным **двумя разными способами**:\n",
    "1. **Напрямую через `.data`** → Это **сырые данные** без `transform` ❌.\n",
    "2. **Через `train_dataset[i]`** → Здесь уже применены `transform` ✅."
   ]
  },
  {
   "cell_type": "code",
   "execution_count": 37,
   "metadata": {},
   "outputs": [
    {
     "data": {
      "text/plain": [
       "Text(0.5, 1.0, 'Transformed image with augmentation')"
      ]
     },
     "execution_count": 37,
     "metadata": {},
     "output_type": "execute_result"
    },
    {
     "data": {
      "image/png": "[encoded data removed]",
      "text/plain": [
       "<Figure size 1000x700 with 2 Axes>"
      ]
     },
     "metadata": {},
     "output_type": "display_data"
    }
   ],
   "source": [
    "fig, ax = plt.subplots(1, 2, figsize=(10, 7))\n",
    "\n",
    "ax[0].matshow(train_dataset.data[0], cmap='grey')\n",
    "ax[0].set_title('Original image')\n",
    "\n",
    "ax[1].matshow(train_dataset[0][0].squeeze(0), cmap='grey')\n",
    "ax[1].set_title('Transformed image with augmentation')"
   ]
  },
  {
   "attachments": {},
   "cell_type": "markdown",
   "metadata": {},
   "source": [
    "##### 🧮 Как вычислить параметры для нормализации (среднее и стандартное отклонение)?  \n",
    " \n",
    "\n",
    "Взять все данные датасета и применить нужный метод: \n",
    "```\n",
    "mean = train_dataset.data.float().mean()/255\n",
    "std  = train_dataset.data.float().std()/255\n",
    "```\n",
    "\n",
    "Для многих датасетов этот параметр можно загуглить."
   ]
  },
  {
   "cell_type": "code",
   "execution_count": 38,
   "metadata": {},
   "outputs": [
    {
     "name": "stdout",
     "output_type": "stream",
     "text": [
      "Mean: 0.1307, Std: 0.3081\n"
     ]
    }
   ],
   "source": [
    "mean = train_dataset.data.float().mean() / 255 \n",
    "std = train_dataset.data.float().std() / 255\n",
    "\n",
    "print(f\"Mean: {mean:.4f}, Std: {std:.4f}\")"
   ]
  },
  {
   "cell_type": "markdown",
   "metadata": {},
   "source": [
    "Это среднее значение и стандартное отклонение пикселя в шкале от 0 до 1. "
   ]
  },
  {
   "cell_type": "markdown",
   "metadata": {},
   "source": [
    "#### 2. DataLoader"
   ]
  },
  {
   "cell_type": "code",
   "execution_count": 39,
   "metadata": {},
   "outputs": [],
   "source": [
    "train_loader = DataLoader(train_dataset, shuffle=True, batch_size=config['batch_size'])\n",
    "valid_loader = DataLoader(valid_dataset, shuffle=True, batch_size=config['batch_size'])"
   ]
  },
  {
   "cell_type": "markdown",
   "metadata": {},
   "source": [
    "📌 **Важно!** `DataLoader` **автоматически применяет** `transform` при загрузке данных.  \n",
    "Если ты используешь `DataLoader`, изображения уже будут **с нормализацией** и **применёнными аугментациями**."
   ]
  },
  {
   "cell_type": "code",
   "execution_count": 40,
   "metadata": {},
   "outputs": [],
   "source": [
    "test_batch = next(iter(train_loader))\n",
    "test_batch_samples, test_batch_targets = test_batch"
   ]
  },
  {
   "cell_type": "code",
   "execution_count": 41,
   "metadata": {},
   "outputs": [
    {
     "data": {
      "text/plain": [
       "(tensor(-0.1125), tensor(0.8103))"
      ]
     },
     "execution_count": 41,
     "metadata": {},
     "output_type": "execute_result"
    }
   ],
   "source": [
    "# Диапозон пикселей уже нормирован и лежит со средним около нуля и стандартным отклонением около 1. \n",
    "\n",
    "test_batch_samples[0].mean(), test_batch_samples[0].std()"
   ]
  },
  {
   "cell_type": "code",
   "execution_count": 42,
   "metadata": {},
   "outputs": [],
   "source": [
    "# Но отображается так же, так как пропорции сохранены\n",
    "\n",
    "# plt.matshow(test_batch_samples[0].squeeze(0), cmap='grey')"
   ]
  },
  {
   "cell_type": "markdown",
   "metadata": {},
   "source": [
    "#### 3. Visualization of network learning"
   ]
  },
  {
   "cell_type": "code",
   "execution_count": 43,
   "metadata": {},
   "outputs": [],
   "source": [
    "# Зададим функцию для отрисовки графиков\n",
    "\n",
    "# зададим функцию рисования графиков\n",
    "def plot_history(history, grid=True):\n",
    "    fig, ax = plt.subplots(1,2, figsize=(14,5))\n",
    "    \n",
    "    ax[0].plot(history['train_losses'], label='train loss')\n",
    "    ax[0].plot(history['valid_losses'], label='valid loss')\n",
    "    ax[0].set_title(f'Loss on epoch {len(history[\"train_losses\"])}')\n",
    "    ax[0].grid(grid)\n",
    "    ax[0].set_ylim((0, max(history['train_losses'] + history['valid_losses']) + .1))\n",
    "    ax[0].legend()\n",
    "    \n",
    "    ax[1].plot(history['train_accs'], label='train acc')\n",
    "    ax[1].plot(history['valid_accs'], label='valid acc')\n",
    "    ax[1].set_title(f'Accuracy on epoch {len(history[\"train_losses\"])}')\n",
    "    ax[1].grid(grid)\n",
    "    ax[1].set_ylim((0, 1))\n",
    "    ax[1].legend()\n",
    "    \n",
    "    plt.show()"
   ]
  },
  {
   "cell_type": "markdown",
   "metadata": {},
   "source": [
    "#### 4. Model"
   ]
  },
  {
   "cell_type": "code",
   "execution_count": 45,
   "metadata": {},
   "outputs": [],
   "source": [
    "class CNN(nn.Module): \n",
    "    def __init__(self): \n",
    "        super().__init__() \n",
    "        self.layer1 = nn.Sequential(\n",
    "            nn.Conv2d(\n",
    "                in_channels=1, # (w - k +2*p) / s + 1\n",
    "                out_channels=4, \n",
    "                kernel_size=5, \n",
    "                stride=1, \n",
    "                padding=2), \n",
    "            nn.ReLU(), \n",
    "            nn.MaxPool2d(kernel_size=2, stride=2)\n",
    "        )\n",
    "        \n",
    "        self.layer2 = nn.Sequential(\n",
    "            nn.Conv2d(4, 8, 5, 1, 2),\n",
    "            nn.ReLU(),\n",
    "            nn.MaxPool2d(2, 2)\n",
    "        )\n",
    "\n",
    "        self.layer3 = nn.Sequential(\n",
    "            nn.Conv2d(8, 10, 5, 1, 2),\n",
    "            nn.ReLU(),\n",
    "            nn.MaxPool2d(2, 2)\n",
    "            # nn.AdaptiveAvgPool2d()\n",
    "        )\n",
    "        \n",
    "        self.fc1 = nn.Linear(90, 16) \n",
    "        # self.fc1 = nn.LazyLinear(16)\n",
    "        # self.drop_out = nn.Dropout() \n",
    "        self.fc2 = nn.Linear(16, 10)\n",
    "\n",
    "        \n",
    "    def forward(self, x: torch.Tensor) -> torch.Tensor: # [BATCH_SZIE=512, n_channels=1, width=28, height=28]\n",
    "        out = self.layer1(x)\n",
    "        out = self.layer2(out)\n",
    "        out = self.layer3(out)\n",
    "        out = out.reshape(out.size(0), -1) # view flatten\n",
    "        # print(out.shape)\n",
    "        out = torch.sigmoid(self.fc1(out))\n",
    "        # out = self.drop_out(out) \n",
    "        out = self.fc2(out)  # [BATCH_SIZE=512, n_classes = 10]\n",
    "        return out\n",
    "    \n",
    "model = CNN()"
   ]
  },
  {
   "cell_type": "code",
   "execution_count": 46,
   "metadata": {},
   "outputs": [
    {
     "name": "stdout",
     "output_type": "stream",
     "text": [
      "===============================================================================\n",
      "Layer                     Kernel            Output         Params         FLOPs\n",
      "===============================================================================\n",
      "0_layer1.Conv2d_0       [1, 4, 5, 5]   [1024, 4, 28, 28]      104    83,492,864\n",
      "1_layer1.ReLU_1                    -   [1024, 4, 28, 28]        0             0\n",
      "2_layer1.MaxPool2d_2               -   [1024, 4, 14, 14]        0             0\n",
      "3_layer2.Conv2d_0       [4, 8, 5, 5]   [1024, 8, 14, 14]      808   162,168,832\n",
      "4_layer2.ReLU_1                    -   [1024, 8, 14, 14]        0             0\n",
      "5_layer2.MaxPool2d_2               -     [1024, 8, 7, 7]        0             0\n",
      "6_layer3.Conv2d_0      [8, 10, 5, 5]    [1024, 10, 7, 7]    2,010   100,853,760\n",
      "7_layer3.ReLU_1                    -    [1024, 10, 7, 7]        0             0\n",
      "8_layer3.MaxPool2d_2               -    [1024, 10, 3, 3]        0             0\n",
      "9_fc1                       [90, 16]          [1024, 16]    1,456     2,932,736\n",
      "10_fc2                      [16, 10]          [1024, 10]      170       317,440\n",
      "===============================================================================\n",
      "Total params: 4,548\n",
      "Trainable params: 4,548\n",
      "Non-trainable params: 0\n",
      "Total FLOPs: 349,765,632 / 349.77 MFLOPs\n",
      "-------------------------------------------------------------------------------\n",
      "Input size (MB): 3.06\n",
      "Forward/backward pass size (MB): 91.25\n",
      "Params size (MB): 0.02\n",
      "Estimated Total Size (MB): 94.33\n",
      "===============================================================================\n"
     ]
    }
   ],
   "source": [
    "tu.get_model_summary(model.to(DEVICE), test_batch_samples.to(DEVICE))"
   ]
  },
  {
   "cell_type": "markdown",
   "metadata": {},
   "source": [
    "#### 5. MLFlow (для логирования экспериментов)"
   ]
  },
  {
   "cell_type": "markdown",
   "metadata": {},
   "source": [
    " - **MLflow UI** доступен по порту `5000` 🌐, где вы можете логировать и отслеживать эксперименты и метрики.\n",
    "- Все логи и модели сохраняются в папке `mlruns` 📂, что позволяет легко управлять результатами экспериментов."
   ]
  },
  {
   "cell_type": "code",
   "execution_count": 78,
   "metadata": {},
   "outputs": [],
   "source": [
    "# [MLflow] Флажок, чтобы включать/выключать логирование\n",
    "use_mlflow = True\n",
    "\n",
    "# Здесь можно выбрать или задать название эксперимента\n",
    "# (если такового нет, MLflow создаст новый)\n",
    "mlflow_experiment_name = \"MNIST-CNN-Experiment\""
   ]
  },
  {
   "cell_type": "markdown",
   "metadata": {},
   "source": [
    "#### 6. Optimizer and Loss"
   ]
  },
  {
   "cell_type": "code",
   "execution_count": 79,
   "metadata": {},
   "outputs": [],
   "source": [
    "optimizer = torch.optim.Adam(model.parameters(), config['learning_rate'])\n",
    "criterion = torch.nn.CrossEntropyLoss()"
   ]
  },
  {
   "cell_type": "markdown",
   "metadata": {},
   "source": [
    "#### 7. Model fitting "
   ]
  },
  {
   "cell_type": "code",
   "execution_count": 80,
   "metadata": {},
   "outputs": [],
   "source": [
    "# Функция обучения\n",
    "def fit_model(\n",
    "        model: nn.Module, \n",
    "        epochs: int, \n",
    "        optimizer: torch.optim.Optimizer, \n",
    "        history=None\n",
    "    ):\n",
    "    history = history or {\n",
    "        'train_accs': [],\n",
    "        'train_losses': [],\n",
    "        'valid_accs': [],\n",
    "        'valid_losses': [],\n",
    "    }\n",
    "\n",
    "    for epoch in range(1, epochs + 1):\n",
    "        model.train()\n",
    "        batch_losses = []\n",
    "        batch_accs = []\n",
    "        \n",
    "        for samples, labels in train_loader:\n",
    "            samples = samples.to(DEVICE)\n",
    "            labels = labels.to(DEVICE)\n",
    "            \n",
    "            y_pred = model(samples)\n",
    "            loss = criterion(y_pred, labels)\n",
    "            \n",
    "            optimizer.zero_grad()\n",
    "            loss.backward()\n",
    "            optimizer.step()\n",
    "            \n",
    "            batch_losses.append(loss.item())\n",
    "            batch_accs.append((y_pred.argmax(dim=1) == labels).float().mean().item())\n",
    "\n",
    "        train_loss = np.mean(batch_losses)\n",
    "        train_acc  = np.mean(batch_accs)\n",
    "        history['train_losses'].append(train_loss)\n",
    "        history['train_accs'].append(train_acc)\n",
    "\n",
    "        model.eval()\n",
    "        batch_losses = []\n",
    "        batch_accs = []\n",
    "        with torch.no_grad():\n",
    "            for samples, labels in valid_loader:\n",
    "                samples = samples.to(DEVICE)\n",
    "                labels = labels.to(DEVICE)\n",
    "                y_pred = model(samples)\n",
    "                loss = criterion(y_pred, labels)\n",
    "                batch_losses.append(loss.item())\n",
    "                batch_accs.append((y_pred.argmax(dim=1) == labels).float().mean().item())\n",
    "\n",
    "        valid_loss = np.mean(batch_losses)\n",
    "        valid_acc  = np.mean(batch_accs)\n",
    "        history['valid_losses'].append(valid_loss)\n",
    "        history['valid_accs'].append(valid_acc)\n",
    "\n",
    "        # [MLflow] Логируем метрики\n",
    "        if use_mlflow:\n",
    "            # epoch – номер шага (можно указывать step=epoch)\n",
    "            mlflow.log_metric(\"train_loss\", train_loss, step=epoch)\n",
    "            mlflow.log_metric(\"train_acc\",  train_acc,  step=epoch)\n",
    "            mlflow.log_metric(\"valid_loss\", valid_loss, step=epoch)\n",
    "            mlflow.log_metric(\"valid_acc\",  valid_acc,  step=epoch)\n",
    "\n",
    "        print(\n",
    "            f\"Epoch {epoch}/{epochs} | \"\n",
    "            f\"Train Loss: {train_loss:.4f}, Train Acc: {train_acc:.4f} | \"\n",
    "            f\"Val Loss: {valid_loss:.4f}, Val Acc: {valid_acc:.4f}\"\n",
    "        )\n",
    "\n",
    "    plot_history(history)\n",
    "    return history\n"
   ]
  },
  {
   "cell_type": "code",
   "execution_count": 50,
   "metadata": {},
   "outputs": [
    {
     "name": "stdout",
     "output_type": "stream",
     "text": [
      "Epoch 1/15 | Train Loss: 2.1697, Train Acc: 0.2493 | Val Loss: 1.8261, Val Acc: 0.5043\n",
      "Epoch 2/15 | Train Loss: 1.7392, Train Acc: 0.4741 | Val Loss: 1.3225, Val Acc: 0.6701\n",
      "Epoch 3/15 | Train Loss: 1.3827, Train Acc: 0.5994 | Val Loss: 0.9809, Val Acc: 0.7776\n",
      "Epoch 4/15 | Train Loss: 1.1568, Train Acc: 0.6683 | Val Loss: 0.7800, Val Acc: 0.8165\n",
      "Epoch 5/15 | Train Loss: 0.9906, Train Acc: 0.7208 | Val Loss: 0.6259, Val Acc: 0.8617\n",
      "Epoch 6/15 | Train Loss: 0.8642, Train Acc: 0.7572 | Val Loss: 0.5356, Val Acc: 0.8764\n",
      "Epoch 7/15 | Train Loss: 0.7759, Train Acc: 0.7788 | Val Loss: 0.4437, Val Acc: 0.8958\n",
      "Epoch 8/15 | Train Loss: 0.7020, Train Acc: 0.7991 | Val Loss: 0.4030, Val Acc: 0.8980\n",
      "Epoch 9/15 | Train Loss: 0.6548, Train Acc: 0.8094 | Val Loss: 0.3558, Val Acc: 0.9127\n",
      "Epoch 10/15 | Train Loss: 0.6017, Train Acc: 0.8231 | Val Loss: 0.3265, Val Acc: 0.9181\n",
      "Epoch 11/15 | Train Loss: 0.5740, Train Acc: 0.8311 | Val Loss: 0.3260, Val Acc: 0.9128\n",
      "Epoch 12/15 | Train Loss: 0.5316, Train Acc: 0.8439 | Val Loss: 0.3023, Val Acc: 0.9150\n",
      "Epoch 13/15 | Train Loss: 0.5120, Train Acc: 0.8492 | Val Loss: 0.2603, Val Acc: 0.9303\n",
      "Epoch 14/15 | Train Loss: 0.5002, Train Acc: 0.8497 | Val Loss: 0.2487, Val Acc: 0.9335\n",
      "Epoch 15/15 | Train Loss: 0.4756, Train Acc: 0.8576 | Val Loss: 0.2496, Val Acc: 0.9280\n"
     ]
    },
    {
     "data": {
      "image/png": "[encoded data removed]",
      "text/plain": [
       "<Figure size 1400x500 with 2 Axes>"
      ]
     },
     "metadata": {},
     "output_type": "display_data"
    },
    {
     "name": "stderr",
     "output_type": "stream",
     "text": [
      "\u001b[31m2025/02/06 14:37:47 WARNING mlflow.models.model: Model logged without a signature and input example. Please set `input_example` parameter when logging the model to auto infer the model signature.\u001b[0m\n"
     ]
    }
   ],
   "source": [
    "# [MLflow] Запуск эксперимента через контекстный менеджер\n",
    "if use_mlflow:\n",
    "    mlflow.set_experiment(mlflow_experiment_name)  # установить (или создать) эксперимент\n",
    "    with mlflow.start_run(run_name=\"MNIST_CNN_bs_1024_lr_0.002\"):\n",
    "        # Логируем гиперпараметры из config\n",
    "        mlflow.log_param(\"batch_size\",      config['batch_size'])\n",
    "        mlflow.log_param(\"learning_rate\",   config['learning_rate'])\n",
    "        mlflow.log_param(\"epochs\",          config['epochs'])\n",
    "        mlflow.log_param(\"device\",          config['device'])\n",
    "\n",
    "        # Запускаем обучение\n",
    "        logs = fit_model(model, config['epochs'], optimizer)\n",
    "\n",
    "        # Сохраняем модель в MLflow (опционально)\n",
    "        mlflow.pytorch.log_model(model, \"model\")\n",
    "\n",
    "    # После выхода из `with` Run автоматически завершается\n",
    "else:\n",
    "    # Если не используем MLflow\n",
    "    logs = fit_model(model, config['epochs'], optimizer)"
   ]
  },
  {
   "cell_type": "markdown",
   "metadata": {},
   "source": [
    "#### 8. Model Inference (Прогноз модели)"
   ]
  },
  {
   "cell_type": "code",
   "execution_count": 56,
   "metadata": {},
   "outputs": [],
   "source": [
    "# делаем из генератора итерируемый объект и достаем оттуда один элемент\n",
    "img, true_label = next(iter(valid_loader))"
   ]
  },
  {
   "cell_type": "code",
   "execution_count": 57,
   "metadata": {},
   "outputs": [
    {
     "name": "stdout",
     "output_type": "stream",
     "text": [
      "torch.Size([1024, 1, 28, 28])\n",
      "tensor(8)\n"
     ]
    }
   ],
   "source": [
    "print(img.shape)\n",
    "print(true_label[0])"
   ]
  },
  {
   "cell_type": "markdown",
   "metadata": {},
   "source": [
    "<b>Возьмем одну картинку из батча и првоерим</b>"
   ]
  },
  {
   "cell_type": "code",
   "execution_count": 58,
   "metadata": {},
   "outputs": [
    {
     "data": {
      "image/png": "[encoded data removed]",
      "text/plain": [
       "<Figure size 640x480 with 1 Axes>"
      ]
     },
     "metadata": {},
     "output_type": "display_data"
    }
   ],
   "source": [
    "plt.imshow(img[0][0], cmap='gray')\n",
    "plt.title(f'{true_label[0]}'); plt.axis('off');"
   ]
  },
  {
   "cell_type": "markdown",
   "metadata": {},
   "source": [
    "Чтобы получить предсказание на одной картинке, нужно привести данные в формат, в котором модель может принять картинку на вход. Обучение модели проходило на данных формата `[BATCH_SIZE, n_channels, height, width]`. Формат одной картинки – `[n_channels, height, width]` – не хватает одного измерения на первом месте. В таком случае мы сделаем вид, что у нас просто батч из одной картинки – это можно сделать с помощью метода `img.unsqueeze(n)`, где `n` – позиция, на которую надо поставить фиктивную единицу, в нашем случае эта позиция – `BATCH_SIZE`, то есть 0. "
   ]
  },
  {
   "cell_type": "code",
   "execution_count": 66,
   "metadata": {},
   "outputs": [
    {
     "data": {
      "text/plain": [
       "torch.Size([1, 1, 28, 28])"
      ]
     },
     "execution_count": 66,
     "metadata": {},
     "output_type": "execute_result"
    }
   ],
   "source": [
    "img[0].unsqueeze(0).shape"
   ]
  },
  {
   "cell_type": "code",
   "execution_count": 72,
   "metadata": {},
   "outputs": [
    {
     "name": "stdout",
     "output_type": "stream",
     "text": [
      "Pred class: 2\n"
     ]
    }
   ],
   "source": [
    "with torch.inference_mode():\n",
    "    pred_class = model(img[0].unsqueeze(0).to(DEVICE)).softmax(dim=1).argmax().item()\n",
    "print(f'Pred class: {pred_class}')"
   ]
  },
  {
   "cell_type": "code",
   "execution_count": 74,
   "metadata": {},
   "outputs": [
    {
     "data": {
      "image/png": "[encoded data removed]",
      "text/plain": [
       "<Figure size 640x480 with 1 Axes>"
      ]
     },
     "metadata": {},
     "output_type": "display_data"
    }
   ],
   "source": [
    "plt.imshow(img[0][0], cmap='gray')\n",
    "plt.title(f'Pred class: {pred_class}, real_class: {true_label[0]}'); \n",
    "plt.axis('off');"
   ]
  },
  {
   "attachments": {},
   "cell_type": "markdown",
   "metadata": {},
   "source": [
    "## Feature extraction (Feature Map)"
   ]
  },
  {
   "cell_type": "code",
   "execution_count": 75,
   "metadata": {},
   "outputs": [
    {
     "data": {
      "image/png": "[encoded data removed]",
      "text/plain": [
       "<Figure size 1000x500 with 12 Axes>"
      ]
     },
     "metadata": {},
     "output_type": "display_data"
    }
   ],
   "source": [
    "from torchvision.models.feature_extraction import get_graph_node_names\n",
    "from torchvision.models.feature_extraction import create_feature_extractor\n",
    "model.cpu()\n",
    "train_nodes, _ = get_graph_node_names(model)\n",
    "feature_extractor = create_feature_extractor(\n",
    "\tmodel, return_nodes=[\n",
    "\t\t\t'layer1.0', 'layer1.1', 'layer1.2', 'layer2.0', 'layer2.1', 'layer2.2'\n",
    "\t]\n",
    ")\n",
    "out = feature_extractor(img)\n",
    "# plt.imshow(img[0, 0].detach().cpu().numpy(), cmap='gray')\n",
    "# plt.axis('off')\n",
    "fig, ax = plt.subplots(3, 4, figsize=(10, 5))\n",
    "for i in range(4):\n",
    "    ax[0, i].axis('off')\n",
    "    ax[0, i].set_title('Convolution result')\n",
    "    ax[0, i].imshow(out['layer1.0'][0, i, :, :].detach().cpu().numpy(), cmap='gray')\n",
    "    ax[1, i].axis('off')\n",
    "    ax[1, i].set_title('Relu result')\n",
    "    ax[1, i].imshow(out['layer1.1'][0, i, :, :].detach().cpu().numpy(), cmap='gray')\n",
    "    ax[2, i].axis('off')\n",
    "    ax[2, i].set_title('Pooling result')\n",
    "    ax[2, i].imshow(out['layer1.2'][0, i, :, :].detach().cpu().numpy(), cmap='gray')"
   ]
  },
  {
   "cell_type": "code",
   "execution_count": 76,
   "metadata": {},
   "outputs": [
    {
     "data": {
      "image/png": "[encoded data removed]",
      "text/plain": [
       "<Figure size 1200x600 with 24 Axes>"
      ]
     },
     "metadata": {},
     "output_type": "display_data"
    }
   ],
   "source": [
    "fig, ax = plt.subplots(3, 8, figsize=(12, 6))\n",
    "for i in range(8):\n",
    "    ax[0, i].axis('off')\n",
    "    ax[0, i].set_title('Conv result')\n",
    "    ax[0, i].imshow(out['layer2.0'][0, i, :, :].detach().cpu().numpy(), cmap='gray')\n",
    "    ax[1, i].axis('off')\n",
    "    ax[1, i].set_title('Relu result')\n",
    "    ax[1, i].imshow(out['layer2.1'][0, i, :, :].detach().cpu().numpy(), cmap='gray')\n",
    "    ax[2, i].axis('off')\n",
    "    ax[2, i].set_title('Pooling result')\n",
    "    ax[2, i].imshow(out['layer2.2'][0, i, :, :].detach().cpu().numpy(), cmap='gray')\n",
    "    # plt.show()"
   ]
  },
  {
   "cell_type": "markdown",
   "metadata": {},
   "source": [
    "#### Model architecture visualization"
   ]
  },
  {
   "cell_type": "code",
   "execution_count": 77,
   "metadata": {},
   "outputs": [
    {
     "data": {
      "image/svg+xml": [
       "<?xml version=\"1.0\" encoding=\"UTF-8\" standalone=\"no\"?>\n",
       "<!DOCTYPE svg PUBLIC \"-//W3C//DTD SVG 1.1//EN\"\n",
       " \"http://www.w3.org/Graphics/SVG/1.1/DTD/svg11.dtd\">\n",
       "<!-- Generated by graphviz version 12.2.0 (20241103.1931)\n",
       " -->\n",
       "<!-- Title: model Pages: 1 -->\n",
       "<svg width=\"169pt\" height=\"864pt\"\n",
       " viewBox=\"0.00 0.00 169.46 864.00\" xmlns=\"http://www.w3.org/2000/svg\" xmlns:xlink=\"http://www.w3.org/1999/xlink\">\n",
       "<g id=\"graph0\" class=\"graph\" transform=\"scale(0.749837 0.749837) rotate(0) translate(4 1148.25)\">\n",
       "<title>model</title>\n",
       "<polygon fill=\"white\" stroke=\"none\" points=\"-4,4 -4,-1148.25 222,-1148.25 222,4 -4,4\"/>\n",
       "<g id=\"clust1\" class=\"cluster\">\n",
       "<title>cluster_2</title>\n",
       "<polygon fill=\"none\" stroke=\"black\" stroke-dasharray=\"5,2\" points=\"8,-866 8,-1103.75 210,-1103.75 210,-866 8,-866\"/>\n",
       "<text text-anchor=\"middle\" x=\"40.75\" y=\"-1088.35\" font-family=\"Times,serif\" font-size=\"12.00\">Sequential</text>\n",
       "</g>\n",
       "<g id=\"clust2\" class=\"cluster\">\n",
       "<title>cluster_3</title>\n",
       "<polygon fill=\"none\" stroke=\"black\" stroke-dasharray=\"5,2\" points=\"8,-620.25 8,-858 210,-858 210,-620.25 8,-620.25\"/>\n",
       "<text text-anchor=\"middle\" x=\"40.75\" y=\"-842.6\" font-family=\"Times,serif\" font-size=\"12.00\">Sequential</text>\n",
       "</g>\n",
       "<g id=\"clust3\" class=\"cluster\">\n",
       "<title>cluster_4</title>\n",
       "<polygon fill=\"none\" stroke=\"black\" stroke-dasharray=\"5,2\" points=\"11,-374.5 11,-612.25 207,-612.25 207,-374.5 11,-374.5\"/>\n",
       "<text text-anchor=\"middle\" x=\"43.75\" y=\"-596.85\" font-family=\"Times,serif\" font-size=\"12.00\">Sequential</text>\n",
       "</g>\n",
       "<!-- 0 -->\n",
       "<g id=\"node1\" class=\"node\">\n",
       "<title>0</title>\n",
       "<polygon fill=\"lightyellow\" stroke=\"none\" points=\"180.12,-1144.25 37.88,-1144.25 37.88,-1111.75 180.12,-1111.75 180.12,-1144.25\"/>\n",
       "<polygon fill=\"none\" stroke=\"black\" points=\"37.88,-1111.75 37.88,-1144.25 98.88,-1144.25 98.88,-1111.75 37.88,-1111.75\"/>\n",
       "<text text-anchor=\"start\" x=\"42.88\" y=\"-1129.75\" font-family=\"Linux libertine\" font-size=\"10.00\">input&#45;tensor</text>\n",
       "<text text-anchor=\"start\" x=\"52.25\" y=\"-1118.5\" font-family=\"Linux libertine\" font-size=\"10.00\">depth:0</text>\n",
       "<polygon fill=\"none\" stroke=\"black\" points=\"98.88,-1111.75 98.88,-1144.25 180.12,-1144.25 180.12,-1111.75 98.88,-1111.75\"/>\n",
       "<text text-anchor=\"start\" x=\"103.88\" y=\"-1124.12\" font-family=\"Linux libertine\" font-size=\"10.00\">(1024, 1, 28, 28)</text>\n",
       "</g>\n",
       "<!-- 1 -->\n",
       "<g id=\"node2\" class=\"node\">\n",
       "<title>1</title>\n",
       "<polygon fill=\"#c1ffc1\" stroke=\"none\" points=\"194.5,-1073.5 23.5,-1073.5 23.5,-1031 194.5,-1031 194.5,-1073.5\"/>\n",
       "<polygon fill=\"none\" stroke=\"black\" points=\"23.5,-1031 23.5,-1073.5 67.25,-1073.5 67.25,-1031 23.5,-1031\"/>\n",
       "<text text-anchor=\"start\" x=\"28.5\" y=\"-1054\" font-family=\"Linux libertine\" font-size=\"10.00\">Conv2d</text>\n",
       "<text text-anchor=\"start\" x=\"29.25\" y=\"-1042.75\" font-family=\"Linux libertine\" font-size=\"10.00\">depth:2</text>\n",
       "<polygon fill=\"none\" stroke=\"black\" points=\"67.25,-1052.25 67.25,-1073.5 110.25,-1073.5 110.25,-1052.25 67.25,-1052.25\"/>\n",
       "<text text-anchor=\"start\" x=\"76.75\" y=\"-1059\" font-family=\"Linux libertine\" font-size=\"10.00\">input:</text>\n",
       "<polygon fill=\"none\" stroke=\"black\" points=\"110.25,-1052.25 110.25,-1073.5 194.5,-1073.5 194.5,-1052.25 110.25,-1052.25\"/>\n",
       "<text text-anchor=\"start\" x=\"115.25\" y=\"-1059\" font-family=\"Linux libertine\" font-size=\"10.00\">(1024, 1, 28, 28) </text>\n",
       "<polygon fill=\"none\" stroke=\"black\" points=\"67.25,-1031 67.25,-1052.25 110.25,-1052.25 110.25,-1031 67.25,-1031\"/>\n",
       "<text text-anchor=\"start\" x=\"72.25\" y=\"-1037.75\" font-family=\"Linux libertine\" font-size=\"10.00\">output: </text>\n",
       "<polygon fill=\"none\" stroke=\"black\" points=\"110.25,-1031 110.25,-1052.25 194.5,-1052.25 194.5,-1031 110.25,-1031\"/>\n",
       "<text text-anchor=\"start\" x=\"115.25\" y=\"-1037.75\" font-family=\"Linux libertine\" font-size=\"10.00\">(1024, 4, 28, 28) </text>\n",
       "</g>\n",
       "<!-- 0&#45;&gt;1 -->\n",
       "<g id=\"edge1\" class=\"edge\">\n",
       "<title>0&#45;&gt;1</title>\n",
       "<path fill=\"none\" stroke=\"black\" d=\"M109,-1112.08C109,-1104.26 109,-1094.38 109,-1084.96\"/>\n",
       "<polygon fill=\"black\" stroke=\"black\" points=\"112.5,-1084.98 109,-1074.98 105.5,-1084.98 112.5,-1084.98\"/>\n",
       "</g>\n",
       "<!-- 2 -->\n",
       "<g id=\"node3\" class=\"node\">\n",
       "<title>2</title>\n",
       "<polygon fill=\"#c1ffc1\" stroke=\"none\" points=\"193.75,-995 24.25,-995 24.25,-952.5 193.75,-952.5 193.75,-995\"/>\n",
       "<polygon fill=\"none\" stroke=\"black\" points=\"24.25,-952.5 24.25,-995 66.5,-995 66.5,-952.5 24.25,-952.5\"/>\n",
       "<text text-anchor=\"start\" x=\"32.62\" y=\"-975.5\" font-family=\"Linux libertine\" font-size=\"10.00\">ReLU</text>\n",
       "<text text-anchor=\"start\" x=\"29.25\" y=\"-964.25\" font-family=\"Linux libertine\" font-size=\"10.00\">depth:2</text>\n",
       "<polygon fill=\"none\" stroke=\"black\" points=\"66.5,-973.75 66.5,-995 109.5,-995 109.5,-973.75 66.5,-973.75\"/>\n",
       "<text text-anchor=\"start\" x=\"76\" y=\"-980.5\" font-family=\"Linux libertine\" font-size=\"10.00\">input:</text>\n",
       "<polygon fill=\"none\" stroke=\"black\" points=\"109.5,-973.75 109.5,-995 193.75,-995 193.75,-973.75 109.5,-973.75\"/>\n",
       "<text text-anchor=\"start\" x=\"114.5\" y=\"-980.5\" font-family=\"Linux libertine\" font-size=\"10.00\">(1024, 4, 28, 28) </text>\n",
       "<polygon fill=\"none\" stroke=\"black\" points=\"66.5,-952.5 66.5,-973.75 109.5,-973.75 109.5,-952.5 66.5,-952.5\"/>\n",
       "<text text-anchor=\"start\" x=\"71.5\" y=\"-959.25\" font-family=\"Linux libertine\" font-size=\"10.00\">output: </text>\n",
       "<polygon fill=\"none\" stroke=\"black\" points=\"109.5,-952.5 109.5,-973.75 193.75,-973.75 193.75,-952.5 109.5,-952.5\"/>\n",
       "<text text-anchor=\"start\" x=\"114.5\" y=\"-959.25\" font-family=\"Linux libertine\" font-size=\"10.00\">(1024, 4, 28, 28) </text>\n",
       "</g>\n",
       "<!-- 1&#45;&gt;2 -->\n",
       "<g id=\"edge2\" class=\"edge\">\n",
       "<title>1&#45;&gt;2</title>\n",
       "<path fill=\"none\" stroke=\"black\" d=\"M109,-1031.15C109,-1023.57 109,-1014.75 109,-1006.36\"/>\n",
       "<polygon fill=\"black\" stroke=\"black\" points=\"112.5,-1006.49 109,-996.49 105.5,-1006.49 112.5,-1006.49\"/>\n",
       "</g>\n",
       "<!-- 3 -->\n",
       "<g id=\"node4\" class=\"node\">\n",
       "<title>3</title>\n",
       "<polygon fill=\"#c1ffc1\" stroke=\"none\" points=\"202,-916.5 16,-916.5 16,-874 202,-874 202,-916.5\"/>\n",
       "<polygon fill=\"none\" stroke=\"black\" points=\"16,-874 16,-916.5 74.75,-916.5 74.75,-874 16,-874\"/>\n",
       "<text text-anchor=\"start\" x=\"21\" y=\"-897\" font-family=\"Linux libertine\" font-size=\"10.00\">MaxPool2d</text>\n",
       "<text text-anchor=\"start\" x=\"29.25\" y=\"-885.75\" font-family=\"Linux libertine\" font-size=\"10.00\">depth:2</text>\n",
       "<polygon fill=\"none\" stroke=\"black\" points=\"74.75,-895.25 74.75,-916.5 117.75,-916.5 117.75,-895.25 74.75,-895.25\"/>\n",
       "<text text-anchor=\"start\" x=\"84.25\" y=\"-902\" font-family=\"Linux libertine\" font-size=\"10.00\">input:</text>\n",
       "<polygon fill=\"none\" stroke=\"black\" points=\"117.75,-895.25 117.75,-916.5 202,-916.5 202,-895.25 117.75,-895.25\"/>\n",
       "<text text-anchor=\"start\" x=\"122.75\" y=\"-902\" font-family=\"Linux libertine\" font-size=\"10.00\">(1024, 4, 28, 28) </text>\n",
       "<polygon fill=\"none\" stroke=\"black\" points=\"74.75,-874 74.75,-895.25 117.75,-895.25 117.75,-874 74.75,-874\"/>\n",
       "<text text-anchor=\"start\" x=\"79.75\" y=\"-880.75\" font-family=\"Linux libertine\" font-size=\"10.00\">output: </text>\n",
       "<polygon fill=\"none\" stroke=\"black\" points=\"117.75,-874 117.75,-895.25 202,-895.25 202,-874 117.75,-874\"/>\n",
       "<text text-anchor=\"start\" x=\"122.75\" y=\"-880.75\" font-family=\"Linux libertine\" font-size=\"10.00\">(1024, 4, 14, 14) </text>\n",
       "</g>\n",
       "<!-- 2&#45;&gt;3 -->\n",
       "<g id=\"edge3\" class=\"edge\">\n",
       "<title>2&#45;&gt;3</title>\n",
       "<path fill=\"none\" stroke=\"black\" d=\"M109,-952.65C109,-945.07 109,-936.25 109,-927.86\"/>\n",
       "<polygon fill=\"black\" stroke=\"black\" points=\"112.5,-927.99 109,-917.99 105.5,-927.99 112.5,-927.99\"/>\n",
       "</g>\n",
       "<!-- 4 -->\n",
       "<g id=\"node5\" class=\"node\">\n",
       "<title>4</title>\n",
       "<polygon fill=\"#c1ffc1\" stroke=\"none\" points=\"194.5,-827.75 23.5,-827.75 23.5,-785.25 194.5,-785.25 194.5,-827.75\"/>\n",
       "<polygon fill=\"none\" stroke=\"black\" points=\"23.5,-785.25 23.5,-827.75 67.25,-827.75 67.25,-785.25 23.5,-785.25\"/>\n",
       "<text text-anchor=\"start\" x=\"28.5\" y=\"-808.25\" font-family=\"Linux libertine\" font-size=\"10.00\">Conv2d</text>\n",
       "<text text-anchor=\"start\" x=\"29.25\" y=\"-797\" font-family=\"Linux libertine\" font-size=\"10.00\">depth:2</text>\n",
       "<polygon fill=\"none\" stroke=\"black\" points=\"67.25,-806.5 67.25,-827.75 110.25,-827.75 110.25,-806.5 67.25,-806.5\"/>\n",
       "<text text-anchor=\"start\" x=\"76.75\" y=\"-813.25\" font-family=\"Linux libertine\" font-size=\"10.00\">input:</text>\n",
       "<polygon fill=\"none\" stroke=\"black\" points=\"110.25,-806.5 110.25,-827.75 194.5,-827.75 194.5,-806.5 110.25,-806.5\"/>\n",
       "<text text-anchor=\"start\" x=\"115.25\" y=\"-813.25\" font-family=\"Linux libertine\" font-size=\"10.00\">(1024, 4, 14, 14) </text>\n",
       "<polygon fill=\"none\" stroke=\"black\" points=\"67.25,-785.25 67.25,-806.5 110.25,-806.5 110.25,-785.25 67.25,-785.25\"/>\n",
       "<text text-anchor=\"start\" x=\"72.25\" y=\"-792\" font-family=\"Linux libertine\" font-size=\"10.00\">output: </text>\n",
       "<polygon fill=\"none\" stroke=\"black\" points=\"110.25,-785.25 110.25,-806.5 194.5,-806.5 194.5,-785.25 110.25,-785.25\"/>\n",
       "<text text-anchor=\"start\" x=\"115.25\" y=\"-792\" font-family=\"Linux libertine\" font-size=\"10.00\">(1024, 8, 14, 14) </text>\n",
       "</g>\n",
       "<!-- 3&#45;&gt;4 -->\n",
       "<g id=\"edge4\" class=\"edge\">\n",
       "<title>3&#45;&gt;4</title>\n",
       "<path fill=\"none\" stroke=\"black\" d=\"M109,-874.13C109,-863.62 109,-850.52 109,-838.73\"/>\n",
       "<polygon fill=\"black\" stroke=\"black\" points=\"112.5,-839.02 109,-829.02 105.5,-839.02 112.5,-839.02\"/>\n",
       "</g>\n",
       "<!-- 5 -->\n",
       "<g id=\"node6\" class=\"node\">\n",
       "<title>5</title>\n",
       "<polygon fill=\"#c1ffc1\" stroke=\"none\" points=\"193.75,-749.25 24.25,-749.25 24.25,-706.75 193.75,-706.75 193.75,-749.25\"/>\n",
       "<polygon fill=\"none\" stroke=\"black\" points=\"24.25,-706.75 24.25,-749.25 66.5,-749.25 66.5,-706.75 24.25,-706.75\"/>\n",
       "<text text-anchor=\"start\" x=\"32.62\" y=\"-729.75\" font-family=\"Linux libertine\" font-size=\"10.00\">ReLU</text>\n",
       "<text text-anchor=\"start\" x=\"29.25\" y=\"-718.5\" font-family=\"Linux libertine\" font-size=\"10.00\">depth:2</text>\n",
       "<polygon fill=\"none\" stroke=\"black\" points=\"66.5,-728 66.5,-749.25 109.5,-749.25 109.5,-728 66.5,-728\"/>\n",
       "<text text-anchor=\"start\" x=\"76\" y=\"-734.75\" font-family=\"Linux libertine\" font-size=\"10.00\">input:</text>\n",
       "<polygon fill=\"none\" stroke=\"black\" points=\"109.5,-728 109.5,-749.25 193.75,-749.25 193.75,-728 109.5,-728\"/>\n",
       "<text text-anchor=\"start\" x=\"114.5\" y=\"-734.75\" font-family=\"Linux libertine\" font-size=\"10.00\">(1024, 8, 14, 14) </text>\n",
       "<polygon fill=\"none\" stroke=\"black\" points=\"66.5,-706.75 66.5,-728 109.5,-728 109.5,-706.75 66.5,-706.75\"/>\n",
       "<text text-anchor=\"start\" x=\"71.5\" y=\"-713.5\" font-family=\"Linux libertine\" font-size=\"10.00\">output: </text>\n",
       "<polygon fill=\"none\" stroke=\"black\" points=\"109.5,-706.75 109.5,-728 193.75,-728 193.75,-706.75 109.5,-706.75\"/>\n",
       "<text text-anchor=\"start\" x=\"114.5\" y=\"-713.5\" font-family=\"Linux libertine\" font-size=\"10.00\">(1024, 8, 14, 14) </text>\n",
       "</g>\n",
       "<!-- 4&#45;&gt;5 -->\n",
       "<g id=\"edge5\" class=\"edge\">\n",
       "<title>4&#45;&gt;5</title>\n",
       "<path fill=\"none\" stroke=\"black\" d=\"M109,-785.4C109,-777.82 109,-769 109,-760.61\"/>\n",
       "<polygon fill=\"black\" stroke=\"black\" points=\"112.5,-760.74 109,-750.74 105.5,-760.74 112.5,-760.74\"/>\n",
       "</g>\n",
       "<!-- 6 -->\n",
       "<g id=\"node7\" class=\"node\">\n",
       "<title>6</title>\n",
       "<polygon fill=\"#c1ffc1\" stroke=\"none\" points=\"202,-670.75 16,-670.75 16,-628.25 202,-628.25 202,-670.75\"/>\n",
       "<polygon fill=\"none\" stroke=\"black\" points=\"16,-628.25 16,-670.75 74.75,-670.75 74.75,-628.25 16,-628.25\"/>\n",
       "<text text-anchor=\"start\" x=\"21\" y=\"-651.25\" font-family=\"Linux libertine\" font-size=\"10.00\">MaxPool2d</text>\n",
       "<text text-anchor=\"start\" x=\"29.25\" y=\"-640\" font-family=\"Linux libertine\" font-size=\"10.00\">depth:2</text>\n",
       "<polygon fill=\"none\" stroke=\"black\" points=\"74.75,-649.5 74.75,-670.75 117.75,-670.75 117.75,-649.5 74.75,-649.5\"/>\n",
       "<text text-anchor=\"start\" x=\"84.25\" y=\"-656.25\" font-family=\"Linux libertine\" font-size=\"10.00\">input:</text>\n",
       "<polygon fill=\"none\" stroke=\"black\" points=\"117.75,-649.5 117.75,-670.75 202,-670.75 202,-649.5 117.75,-649.5\"/>\n",
       "<text text-anchor=\"start\" x=\"122.75\" y=\"-656.25\" font-family=\"Linux libertine\" font-size=\"10.00\">(1024, 8, 14, 14) </text>\n",
       "<polygon fill=\"none\" stroke=\"black\" points=\"74.75,-628.25 74.75,-649.5 117.75,-649.5 117.75,-628.25 74.75,-628.25\"/>\n",
       "<text text-anchor=\"start\" x=\"79.75\" y=\"-635\" font-family=\"Linux libertine\" font-size=\"10.00\">output: </text>\n",
       "<polygon fill=\"none\" stroke=\"black\" points=\"117.75,-628.25 117.75,-649.5 202,-649.5 202,-628.25 117.75,-628.25\"/>\n",
       "<text text-anchor=\"start\" x=\"128\" y=\"-635\" font-family=\"Linux libertine\" font-size=\"10.00\">(1024, 8, 7, 7) </text>\n",
       "</g>\n",
       "<!-- 5&#45;&gt;6 -->\n",
       "<g id=\"edge6\" class=\"edge\">\n",
       "<title>5&#45;&gt;6</title>\n",
       "<path fill=\"none\" stroke=\"black\" d=\"M109,-706.9C109,-699.32 109,-690.5 109,-682.11\"/>\n",
       "<polygon fill=\"black\" stroke=\"black\" points=\"112.5,-682.24 109,-672.24 105.5,-682.24 112.5,-682.24\"/>\n",
       "</g>\n",
       "<!-- 7 -->\n",
       "<g id=\"node8\" class=\"node\">\n",
       "<title>7</title>\n",
       "<polygon fill=\"#c1ffc1\" stroke=\"none\" points=\"191.88,-582 26.12,-582 26.12,-539.5 191.88,-539.5 191.88,-582\"/>\n",
       "<polygon fill=\"none\" stroke=\"black\" points=\"26.12,-539.5 26.12,-582 69.88,-582 69.88,-539.5 26.12,-539.5\"/>\n",
       "<text text-anchor=\"start\" x=\"31.12\" y=\"-562.5\" font-family=\"Linux libertine\" font-size=\"10.00\">Conv2d</text>\n",
       "<text text-anchor=\"start\" x=\"31.88\" y=\"-551.25\" font-family=\"Linux libertine\" font-size=\"10.00\">depth:2</text>\n",
       "<polygon fill=\"none\" stroke=\"black\" points=\"69.88,-560.75 69.88,-582 112.88,-582 112.88,-560.75 69.88,-560.75\"/>\n",
       "<text text-anchor=\"start\" x=\"79.38\" y=\"-567.5\" font-family=\"Linux libertine\" font-size=\"10.00\">input:</text>\n",
       "<polygon fill=\"none\" stroke=\"black\" points=\"112.88,-560.75 112.88,-582 191.88,-582 191.88,-560.75 112.88,-560.75\"/>\n",
       "<text text-anchor=\"start\" x=\"120.5\" y=\"-567.5\" font-family=\"Linux libertine\" font-size=\"10.00\">(1024, 8, 7, 7) </text>\n",
       "<polygon fill=\"none\" stroke=\"black\" points=\"69.88,-539.5 69.88,-560.75 112.88,-560.75 112.88,-539.5 69.88,-539.5\"/>\n",
       "<text text-anchor=\"start\" x=\"74.88\" y=\"-546.25\" font-family=\"Linux libertine\" font-size=\"10.00\">output: </text>\n",
       "<polygon fill=\"none\" stroke=\"black\" points=\"112.88,-539.5 112.88,-560.75 191.88,-560.75 191.88,-539.5 112.88,-539.5\"/>\n",
       "<text text-anchor=\"start\" x=\"117.88\" y=\"-546.25\" font-family=\"Linux libertine\" font-size=\"10.00\">(1024, 10, 7, 7) </text>\n",
       "</g>\n",
       "<!-- 6&#45;&gt;7 -->\n",
       "<g id=\"edge7\" class=\"edge\">\n",
       "<title>6&#45;&gt;7</title>\n",
       "<path fill=\"none\" stroke=\"black\" d=\"M109,-628.38C109,-617.87 109,-604.77 109,-592.98\"/>\n",
       "<polygon fill=\"black\" stroke=\"black\" points=\"112.5,-593.27 109,-583.27 105.5,-593.27 112.5,-593.27\"/>\n",
       "</g>\n",
       "<!-- 8 -->\n",
       "<g id=\"node9\" class=\"node\">\n",
       "<title>8</title>\n",
       "<polygon fill=\"#c1ffc1\" stroke=\"none\" points=\"191.12,-503.5 26.88,-503.5 26.88,-461 191.12,-461 191.12,-503.5\"/>\n",
       "<polygon fill=\"none\" stroke=\"black\" points=\"26.88,-461 26.88,-503.5 69.12,-503.5 69.12,-461 26.88,-461\"/>\n",
       "<text text-anchor=\"start\" x=\"35.25\" y=\"-484\" font-family=\"Linux libertine\" font-size=\"10.00\">ReLU</text>\n",
       "<text text-anchor=\"start\" x=\"31.88\" y=\"-472.75\" font-family=\"Linux libertine\" font-size=\"10.00\">depth:2</text>\n",
       "<polygon fill=\"none\" stroke=\"black\" points=\"69.12,-482.25 69.12,-503.5 112.12,-503.5 112.12,-482.25 69.12,-482.25\"/>\n",
       "<text text-anchor=\"start\" x=\"78.62\" y=\"-489\" font-family=\"Linux libertine\" font-size=\"10.00\">input:</text>\n",
       "<polygon fill=\"none\" stroke=\"black\" points=\"112.12,-482.25 112.12,-503.5 191.12,-503.5 191.12,-482.25 112.12,-482.25\"/>\n",
       "<text text-anchor=\"start\" x=\"117.12\" y=\"-489\" font-family=\"Linux libertine\" font-size=\"10.00\">(1024, 10, 7, 7) </text>\n",
       "<polygon fill=\"none\" stroke=\"black\" points=\"69.12,-461 69.12,-482.25 112.12,-482.25 112.12,-461 69.12,-461\"/>\n",
       "<text text-anchor=\"start\" x=\"74.12\" y=\"-467.75\" font-family=\"Linux libertine\" font-size=\"10.00\">output: </text>\n",
       "<polygon fill=\"none\" stroke=\"black\" points=\"112.12,-461 112.12,-482.25 191.12,-482.25 191.12,-461 112.12,-461\"/>\n",
       "<text text-anchor=\"start\" x=\"117.12\" y=\"-467.75\" font-family=\"Linux libertine\" font-size=\"10.00\">(1024, 10, 7, 7) </text>\n",
       "</g>\n",
       "<!-- 7&#45;&gt;8 -->\n",
       "<g id=\"edge8\" class=\"edge\">\n",
       "<title>7&#45;&gt;8</title>\n",
       "<path fill=\"none\" stroke=\"black\" d=\"M109,-539.65C109,-532.07 109,-523.25 109,-514.86\"/>\n",
       "<polygon fill=\"black\" stroke=\"black\" points=\"112.5,-514.99 109,-504.99 105.5,-514.99 112.5,-514.99\"/>\n",
       "</g>\n",
       "<!-- 9 -->\n",
       "<g id=\"node10\" class=\"node\">\n",
       "<title>9</title>\n",
       "<polygon fill=\"#c1ffc1\" stroke=\"none\" points=\"199.38,-425 18.62,-425 18.62,-382.5 199.38,-382.5 199.38,-425\"/>\n",
       "<polygon fill=\"none\" stroke=\"black\" points=\"18.62,-382.5 18.62,-425 77.38,-425 77.38,-382.5 18.62,-382.5\"/>\n",
       "<text text-anchor=\"start\" x=\"23.62\" y=\"-405.5\" font-family=\"Linux libertine\" font-size=\"10.00\">MaxPool2d</text>\n",
       "<text text-anchor=\"start\" x=\"31.88\" y=\"-394.25\" font-family=\"Linux libertine\" font-size=\"10.00\">depth:2</text>\n",
       "<polygon fill=\"none\" stroke=\"black\" points=\"77.38,-403.75 77.38,-425 120.38,-425 120.38,-403.75 77.38,-403.75\"/>\n",
       "<text text-anchor=\"start\" x=\"86.88\" y=\"-410.5\" font-family=\"Linux libertine\" font-size=\"10.00\">input:</text>\n",
       "<polygon fill=\"none\" stroke=\"black\" points=\"120.38,-403.75 120.38,-425 199.38,-425 199.38,-403.75 120.38,-403.75\"/>\n",
       "<text text-anchor=\"start\" x=\"125.38\" y=\"-410.5\" font-family=\"Linux libertine\" font-size=\"10.00\">(1024, 10, 7, 7) </text>\n",
       "<polygon fill=\"none\" stroke=\"black\" points=\"77.38,-382.5 77.38,-403.75 120.38,-403.75 120.38,-382.5 77.38,-382.5\"/>\n",
       "<text text-anchor=\"start\" x=\"82.38\" y=\"-389.25\" font-family=\"Linux libertine\" font-size=\"10.00\">output: </text>\n",
       "<polygon fill=\"none\" stroke=\"black\" points=\"120.38,-382.5 120.38,-403.75 199.38,-403.75 199.38,-382.5 120.38,-382.5\"/>\n",
       "<text text-anchor=\"start\" x=\"125.38\" y=\"-389.25\" font-family=\"Linux libertine\" font-size=\"10.00\">(1024, 10, 3, 3) </text>\n",
       "</g>\n",
       "<!-- 8&#45;&gt;9 -->\n",
       "<g id=\"edge9\" class=\"edge\">\n",
       "<title>8&#45;&gt;9</title>\n",
       "<path fill=\"none\" stroke=\"black\" d=\"M109,-461.15C109,-453.57 109,-444.75 109,-436.36\"/>\n",
       "<polygon fill=\"black\" stroke=\"black\" points=\"112.5,-436.49 109,-426.49 105.5,-436.49 112.5,-436.49\"/>\n",
       "</g>\n",
       "<!-- 10 -->\n",
       "<g id=\"node11\" class=\"node\">\n",
       "<title>10</title>\n",
       "<polygon fill=\"aliceblue\" stroke=\"none\" points=\"192.25,-346.5 25.75,-346.5 25.75,-304 192.25,-304 192.25,-346.5\"/>\n",
       "<polygon fill=\"none\" stroke=\"black\" points=\"25.75,-304 25.75,-346.5 70.25,-346.5 70.25,-304 25.75,-304\"/>\n",
       "<text text-anchor=\"start\" x=\"30.75\" y=\"-327\" font-family=\"Linux libertine\" font-size=\"10.00\">reshape</text>\n",
       "<text text-anchor=\"start\" x=\"31.88\" y=\"-315.75\" font-family=\"Linux libertine\" font-size=\"10.00\">depth:1</text>\n",
       "<polygon fill=\"none\" stroke=\"black\" points=\"70.25,-325.25 70.25,-346.5 113.25,-346.5 113.25,-325.25 70.25,-325.25\"/>\n",
       "<text text-anchor=\"start\" x=\"79.75\" y=\"-332\" font-family=\"Linux libertine\" font-size=\"10.00\">input:</text>\n",
       "<polygon fill=\"none\" stroke=\"black\" points=\"113.25,-325.25 113.25,-346.5 192.25,-346.5 192.25,-325.25 113.25,-325.25\"/>\n",
       "<text text-anchor=\"start\" x=\"118.25\" y=\"-332\" font-family=\"Linux libertine\" font-size=\"10.00\">(1024, 10, 3, 3) </text>\n",
       "<polygon fill=\"none\" stroke=\"black\" points=\"70.25,-304 70.25,-325.25 113.25,-325.25 113.25,-304 70.25,-304\"/>\n",
       "<text text-anchor=\"start\" x=\"75.25\" y=\"-310.75\" font-family=\"Linux libertine\" font-size=\"10.00\">output: </text>\n",
       "<polygon fill=\"none\" stroke=\"black\" points=\"113.25,-304 113.25,-325.25 192.25,-325.25 192.25,-304 113.25,-304\"/>\n",
       "<text text-anchor=\"start\" x=\"129.5\" y=\"-310.75\" font-family=\"Linux libertine\" font-size=\"10.00\">(1024, 90) </text>\n",
       "</g>\n",
       "<!-- 9&#45;&gt;10 -->\n",
       "<g id=\"edge10\" class=\"edge\">\n",
       "<title>9&#45;&gt;10</title>\n",
       "<path fill=\"none\" stroke=\"black\" d=\"M109,-382.65C109,-375.07 109,-366.25 109,-357.86\"/>\n",
       "<polygon fill=\"black\" stroke=\"black\" points=\"112.5,-357.99 109,-347.99 105.5,-357.99 112.5,-357.99\"/>\n",
       "</g>\n",
       "<!-- 11 -->\n",
       "<g id=\"node12\" class=\"node\">\n",
       "<title>11</title>\n",
       "<polygon fill=\"#c1ffc1\" stroke=\"none\" points=\"179.88,-268 38.12,-268 38.12,-225.5 179.88,-225.5 179.88,-268\"/>\n",
       "<polygon fill=\"none\" stroke=\"black\" points=\"38.12,-225.5 38.12,-268 80.38,-268 80.38,-225.5 38.12,-225.5\"/>\n",
       "<text text-anchor=\"start\" x=\"46.12\" y=\"-248.5\" font-family=\"Linux libertine\" font-size=\"10.00\">Linear</text>\n",
       "<text text-anchor=\"start\" x=\"43.12\" y=\"-237.25\" font-family=\"Linux libertine\" font-size=\"10.00\">depth:1</text>\n",
       "<polygon fill=\"none\" stroke=\"black\" points=\"80.38,-246.75 80.38,-268 123.38,-268 123.38,-246.75 80.38,-246.75\"/>\n",
       "<text text-anchor=\"start\" x=\"89.88\" y=\"-253.5\" font-family=\"Linux libertine\" font-size=\"10.00\">input:</text>\n",
       "<polygon fill=\"none\" stroke=\"black\" points=\"123.38,-246.75 123.38,-268 179.88,-268 179.88,-246.75 123.38,-246.75\"/>\n",
       "<text text-anchor=\"start\" x=\"128.38\" y=\"-253.5\" font-family=\"Linux libertine\" font-size=\"10.00\">(1024, 90) </text>\n",
       "<polygon fill=\"none\" stroke=\"black\" points=\"80.38,-225.5 80.38,-246.75 123.38,-246.75 123.38,-225.5 80.38,-225.5\"/>\n",
       "<text text-anchor=\"start\" x=\"85.38\" y=\"-232.25\" font-family=\"Linux libertine\" font-size=\"10.00\">output: </text>\n",
       "<polygon fill=\"none\" stroke=\"black\" points=\"123.38,-225.5 123.38,-246.75 179.88,-246.75 179.88,-225.5 123.38,-225.5\"/>\n",
       "<text text-anchor=\"start\" x=\"128.38\" y=\"-232.25\" font-family=\"Linux libertine\" font-size=\"10.00\">(1024, 16) </text>\n",
       "</g>\n",
       "<!-- 10&#45;&gt;11 -->\n",
       "<g id=\"edge11\" class=\"edge\">\n",
       "<title>10&#45;&gt;11</title>\n",
       "<path fill=\"none\" stroke=\"black\" d=\"M109,-304.15C109,-296.57 109,-287.75 109,-279.36\"/>\n",
       "<polygon fill=\"black\" stroke=\"black\" points=\"112.5,-279.49 109,-269.49 105.5,-279.49 112.5,-279.49\"/>\n",
       "</g>\n",
       "<!-- 12 -->\n",
       "<g id=\"node13\" class=\"node\">\n",
       "<title>12</title>\n",
       "<polygon fill=\"aliceblue\" stroke=\"none\" points=\"180.62,-189.5 37.38,-189.5 37.38,-147 180.62,-147 180.62,-189.5\"/>\n",
       "<polygon fill=\"none\" stroke=\"black\" points=\"37.38,-147 37.38,-189.5 81.12,-189.5 81.12,-147 37.38,-147\"/>\n",
       "<text text-anchor=\"start\" x=\"42.38\" y=\"-170\" font-family=\"Linux libertine\" font-size=\"10.00\">sigmoid</text>\n",
       "<text text-anchor=\"start\" x=\"43.12\" y=\"-158.75\" font-family=\"Linux libertine\" font-size=\"10.00\">depth:1</text>\n",
       "<polygon fill=\"none\" stroke=\"black\" points=\"81.12,-168.25 81.12,-189.5 124.12,-189.5 124.12,-168.25 81.12,-168.25\"/>\n",
       "<text text-anchor=\"start\" x=\"90.62\" y=\"-175\" font-family=\"Linux libertine\" font-size=\"10.00\">input:</text>\n",
       "<polygon fill=\"none\" stroke=\"black\" points=\"124.12,-168.25 124.12,-189.5 180.62,-189.5 180.62,-168.25 124.12,-168.25\"/>\n",
       "<text text-anchor=\"start\" x=\"129.12\" y=\"-175\" font-family=\"Linux libertine\" font-size=\"10.00\">(1024, 16) </text>\n",
       "<polygon fill=\"none\" stroke=\"black\" points=\"81.12,-147 81.12,-168.25 124.12,-168.25 124.12,-147 81.12,-147\"/>\n",
       "<text text-anchor=\"start\" x=\"86.12\" y=\"-153.75\" font-family=\"Linux libertine\" font-size=\"10.00\">output: </text>\n",
       "<polygon fill=\"none\" stroke=\"black\" points=\"124.12,-147 124.12,-168.25 180.62,-168.25 180.62,-147 124.12,-147\"/>\n",
       "<text text-anchor=\"start\" x=\"129.12\" y=\"-153.75\" font-family=\"Linux libertine\" font-size=\"10.00\">(1024, 16) </text>\n",
       "</g>\n",
       "<!-- 11&#45;&gt;12 -->\n",
       "<g id=\"edge12\" class=\"edge\">\n",
       "<title>11&#45;&gt;12</title>\n",
       "<path fill=\"none\" stroke=\"black\" d=\"M109,-225.65C109,-218.07 109,-209.25 109,-200.86\"/>\n",
       "<polygon fill=\"black\" stroke=\"black\" points=\"112.5,-200.99 109,-190.99 105.5,-200.99 112.5,-200.99\"/>\n",
       "</g>\n",
       "<!-- 13 -->\n",
       "<g id=\"node14\" class=\"node\">\n",
       "<title>13</title>\n",
       "<polygon fill=\"#c1ffc1\" stroke=\"none\" points=\"179.88,-111 38.12,-111 38.12,-68.5 179.88,-68.5 179.88,-111\"/>\n",
       "<polygon fill=\"none\" stroke=\"black\" points=\"38.12,-68.5 38.12,-111 80.38,-111 80.38,-68.5 38.12,-68.5\"/>\n",
       "<text text-anchor=\"start\" x=\"46.12\" y=\"-91.5\" font-family=\"Linux libertine\" font-size=\"10.00\">Linear</text>\n",
       "<text text-anchor=\"start\" x=\"43.12\" y=\"-80.25\" font-family=\"Linux libertine\" font-size=\"10.00\">depth:1</text>\n",
       "<polygon fill=\"none\" stroke=\"black\" points=\"80.38,-89.75 80.38,-111 123.38,-111 123.38,-89.75 80.38,-89.75\"/>\n",
       "<text text-anchor=\"start\" x=\"89.88\" y=\"-96.5\" font-family=\"Linux libertine\" font-size=\"10.00\">input:</text>\n",
       "<polygon fill=\"none\" stroke=\"black\" points=\"123.38,-89.75 123.38,-111 179.88,-111 179.88,-89.75 123.38,-89.75\"/>\n",
       "<text text-anchor=\"start\" x=\"128.38\" y=\"-96.5\" font-family=\"Linux libertine\" font-size=\"10.00\">(1024, 16) </text>\n",
       "<polygon fill=\"none\" stroke=\"black\" points=\"80.38,-68.5 80.38,-89.75 123.38,-89.75 123.38,-68.5 80.38,-68.5\"/>\n",
       "<text text-anchor=\"start\" x=\"85.38\" y=\"-75.25\" font-family=\"Linux libertine\" font-size=\"10.00\">output: </text>\n",
       "<polygon fill=\"none\" stroke=\"black\" points=\"123.38,-68.5 123.38,-89.75 179.88,-89.75 179.88,-68.5 123.38,-68.5\"/>\n",
       "<text text-anchor=\"start\" x=\"128.38\" y=\"-75.25\" font-family=\"Linux libertine\" font-size=\"10.00\">(1024, 10) </text>\n",
       "</g>\n",
       "<!-- 12&#45;&gt;13 -->\n",
       "<g id=\"edge13\" class=\"edge\">\n",
       "<title>12&#45;&gt;13</title>\n",
       "<path fill=\"none\" stroke=\"black\" d=\"M109,-147.15C109,-139.57 109,-130.75 109,-122.36\"/>\n",
       "<polygon fill=\"black\" stroke=\"black\" points=\"112.5,-122.49 109,-112.49 105.5,-122.49 112.5,-122.49\"/>\n",
       "</g>\n",
       "<!-- 14 -->\n",
       "<g id=\"node15\" class=\"node\">\n",
       "<title>14</title>\n",
       "<polygon fill=\"lightyellow\" stroke=\"none\" points=\"169.25,-32.5 48.75,-32.5 48.75,0 169.25,0 169.25,-32.5\"/>\n",
       "<polygon fill=\"none\" stroke=\"black\" points=\"48.75,0 48.75,-32.5 115.75,-32.5 115.75,0 48.75,0\"/>\n",
       "<text text-anchor=\"start\" x=\"53.75\" y=\"-18\" font-family=\"Linux libertine\" font-size=\"10.00\">output&#45;tensor</text>\n",
       "<text text-anchor=\"start\" x=\"66.12\" y=\"-6.75\" font-family=\"Linux libertine\" font-size=\"10.00\">depth:0</text>\n",
       "<polygon fill=\"none\" stroke=\"black\" points=\"115.75,0 115.75,-32.5 169.25,-32.5 169.25,0 115.75,0\"/>\n",
       "<text text-anchor=\"start\" x=\"120.75\" y=\"-12.38\" font-family=\"Linux libertine\" font-size=\"10.00\">(1024, 10)</text>\n",
       "</g>\n",
       "<!-- 13&#45;&gt;14 -->\n",
       "<g id=\"edge14\" class=\"edge\">\n",
       "<title>13&#45;&gt;14</title>\n",
       "<path fill=\"none\" stroke=\"black\" d=\"M109,-68.83C109,-61.06 109,-52.03 109,-43.73\"/>\n",
       "<polygon fill=\"black\" stroke=\"black\" points=\"112.5,-43.81 109,-33.81 105.5,-43.81 112.5,-43.81\"/>\n",
       "</g>\n",
       "</g>\n",
       "</svg>\n"
      ],
      "text/plain": [
       "<graphviz.graphs.Digraph at 0x2b7fc9b50>"
      ]
     },
     "execution_count": 77,
     "metadata": {},
     "output_type": "execute_result"
    }
   ],
   "source": [
    "# !pip install torchview\n",
    "from torchview import draw_graph\n",
    "model_graph = draw_graph(\n",
    "    model, \n",
    "    input_size=(config['batch_size'],1,28,28), \n",
    "    expand_nested=True\n",
    "    )\n",
    "model_graph.visual_graph"
   ]
  },
  {
   "cell_type": "code",
   "execution_count": null,
   "metadata": {},
   "outputs": [],
   "source": []
  }
 ],
 "metadata": {
  "kernelspec": {
   "display_name": "base",
   "language": "python",
   "name": "python3"
  },
  "language_info": {
   "codemirror_mode": {
    "name": "ipython",
    "version": 3
   },
   "file_extension": ".py",
   "mimetype": "text/x-python",
   "name": "python",
   "nbconvert_exporter": "python",
   "pygments_lexer": "ipython3",
   "version": "3.11.7"
  }
 },
 "nbformat": 4,
 "nbformat_minor": 4
}
